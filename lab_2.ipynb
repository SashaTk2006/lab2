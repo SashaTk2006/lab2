{
 "cells": [
  {
   "cell_type": "markdown",
   "metadata": {},
   "source": [
    "<H1>ФБ-25 Слобода Ірина</H1>\n",
    "<h2>Лабораторна робота 2</h2>"
   ]
  },
  {
   "cell_type": "code",
   "execution_count": 1,
   "metadata": {},
   "outputs": [
    {
     "name": "stdout",
     "output_type": "stream",
     "text": [
      "Setup ok\n"
     ]
    }
   ],
   "source": [
    "import datetime\n",
    "import os\n",
    "import urllib\n",
    "from prettytable import PrettyTable\n",
    "import pandas as pd\n",
    "import glob\n",
    "\n",
    "\n",
    "print(\"Setup ok\")"
   ]
  },
  {
   "cell_type": "markdown",
   "metadata": {},
   "source": [
    "Функція для завантаження даних"
   ]
  },
  {
   "cell_type": "code",
   "execution_count": 11,
   "metadata": {},
   "outputs": [],
   "source": [
    "import os\n",
    "import urllib.request\n",
    "import datetime\n",
    "\n",
    "def download_vhi(province_id, start_year=1981, end_year=2024):\n",
    "\n",
    "    folder = 'data'\n",
    "    os.makedirs(folder, exist_ok=True)\n",
    "    \n",
    "    existing = [f for f in os.listdir(folder) if f.startswith(f'vhi_id__{province_id}__')]\n",
    "    if existing:\n",
    "        print(f\" Файл '{existing[0]}' вже є. Пропускаємо завантаження.\")\n",
    "        return\n",
    "    \n",
    "    url = (f\"https://www.star.nesdis.noaa.gov/smcd/emb/vci/VH/get_TS_admin.php?\"\n",
    "           f\"country=UKR&provinceID={province_id}&year1={start_year}&year2={end_year}&type=Mean\")\n",
    "    \n",
    "    try:\n",
    "        with urllib.request.urlopen(url) as response:\n",
    "            content = response.read()\n",
    "            \n",
    "            \n",
    "            timestamp = datetime.datetime.now().strftime('%Y-%m-%d_%H-%M')\n",
    "            filepath = os.path.join(folder, f'vhi_id__{province_id}__{timestamp}.csv')\n",
    "            \n",
    "            with open(filepath, 'wb') as file:\n",
    "                file.write(content)\n",
    "                \n",
    "            print(f\" Файл збережено: {filepath}\")\n",
    "    \n",
    "    except urllib.error.URLError as e:\n",
    "        print(f\" Помилка завантаження: {e.reason}\")\n",
    "\n",
    "# Виклик функції\n",
    "#download_vhi(i)\n"
   ]
  },
  {
   "cell_type": "markdown",
   "metadata": {},
   "source": [
    "Завантаження тестових структуровних данних за номером області"
   ]
  },
  {
   "cell_type": "code",
   "execution_count": 12,
   "metadata": {},
   "outputs": [
    {
     "name": "stdout",
     "output_type": "stream",
     "text": [
      " Файл 'vhi_id__1__2025-03-07_10-52.csv' вже є. Пропускаємо завантаження.\n",
      " Файл 'vhi_id__2__2025-03-07_10-52.csv' вже є. Пропускаємо завантаження.\n",
      " Файл 'vhi_id__3__2025-03-07_10-52.csv' вже є. Пропускаємо завантаження.\n",
      " Файл 'vhi_id__4__2025-03-07_10-52.csv' вже є. Пропускаємо завантаження.\n",
      " Файл 'vhi_id__5__2025-03-07_10-52.csv' вже є. Пропускаємо завантаження.\n",
      " Файл 'vhi_id__6__2025-03-07_10-52.csv' вже є. Пропускаємо завантаження.\n",
      " Файл 'vhi_id__7__2025-03-07_10-52.csv' вже є. Пропускаємо завантаження.\n",
      " Файл 'vhi_id__8__2025-03-07_10-52.csv' вже є. Пропускаємо завантаження.\n",
      " Файл 'vhi_id__9__2025-03-07_10-52.csv' вже є. Пропускаємо завантаження.\n",
      " Файл 'vhi_id__10__2025-03-07_10-52.csv' вже є. Пропускаємо завантаження.\n",
      " Файл 'vhi_id__11__2025-03-07_10-52.csv' вже є. Пропускаємо завантаження.\n",
      " Файл 'vhi_id__12__2025-03-07_10-52.csv' вже є. Пропускаємо завантаження.\n",
      " Файл 'vhi_id__13__2025-03-07_10-52.csv' вже є. Пропускаємо завантаження.\n",
      " Файл 'vhi_id__14__2025-03-07_10-52.csv' вже є. Пропускаємо завантаження.\n",
      " Файл 'vhi_id__15__2025-03-07_10-52.csv' вже є. Пропускаємо завантаження.\n",
      " Файл 'vhi_id__16__2025-03-07_10-52.csv' вже є. Пропускаємо завантаження.\n",
      " Файл 'vhi_id__17__2025-03-07_10-52.csv' вже є. Пропускаємо завантаження.\n",
      " Файл 'vhi_id__18__2025-03-07_10-53.csv' вже є. Пропускаємо завантаження.\n",
      " Файл 'vhi_id__19__2025-03-07_10-53.csv' вже є. Пропускаємо завантаження.\n",
      " Файл 'vhi_id__20__2025-03-07_10-53.csv' вже є. Пропускаємо завантаження.\n",
      " Файл 'vhi_id__21__2025-03-07_10-53.csv' вже є. Пропускаємо завантаження.\n",
      " Файл 'vhi_id__22__2025-03-07_10-53.csv' вже є. Пропускаємо завантаження.\n",
      " Файл 'vhi_id__23__2025-03-07_10-53.csv' вже є. Пропускаємо завантаження.\n",
      " Файл 'vhi_id__24__2025-03-07_10-53.csv' вже є. Пропускаємо завантаження.\n",
      " Файл 'vhi_id__25__2025-03-07_10-53.csv' вже є. Пропускаємо завантаження.\n",
      " Файл 'vhi_id__26__2025-03-07_10-53.csv' вже є. Пропускаємо завантаження.\n",
      " Файл 'vhi_id__27__2025-03-07_10-52.csv' вже є. Пропускаємо завантаження.\n"
     ]
    }
   ],
   "source": [
    "for i in range(1,28):\n",
    " download_vhi(i)"
   ]
  },
  {
   "cell_type": "markdown",
   "metadata": {},
   "source": [
    "Відповідність id регіону та його назви"
   ]
  },
  {
   "cell_type": "code",
   "execution_count": 13,
   "metadata": {},
   "outputs": [],
   "source": [
    "reg_id_name = {\n",
    "    1: 'Вінницька',  2: 'Волинська',  3: 'Дніпропетровська',  4: 'Донецька',  5: 'Житомирська',\n",
    "    6: 'Закарпатська',  7: 'Запорізька',  8: 'Івано-Франківська',  9: 'Київська',  10: 'Кіровоградська',\n",
    "    11: 'Луганська',  12: 'Львівська',  13: 'Миколаївська',  14: 'Одеська',  15: 'Полтавська',\n",
    "    16: 'Рівненська',  17: 'Сумська',  18: 'Тернопільська',  19: 'Харківська',  20: 'Херсонська',\n",
    "    21: 'Хмельницька',  22: 'Черкаська',  23: 'Чернівецька',  24: 'Чернігівська',  25: 'Республіка Крим'\n",
    "}"
   ]
  },
  {
   "cell_type": "markdown",
   "metadata": {},
   "source": [
    "Функція очищення даних і створення загального DataFrame\n"
   ]
  },
  {
   "cell_type": "markdown",
   "metadata": {},
   "source": []
  },
  {
   "cell_type": "code",
   "execution_count": 14,
   "metadata": {},
   "outputs": [],
   "source": [
    "import glob\n",
    "import pandas as pd\n",
    "\n",
    "def create_data_frame(folder_path):\n",
    "    # Збираємо всі CSV файли з папки\n",
    "    csv_files = glob.glob(f\"{folder_path}/*.csv\")\n",
    "\n",
    "    # Визначаємо заголовки стовпців\n",
    "    headers = ['Year', 'Week', 'SMN', 'SMT', 'VCI', 'TCI', 'VHI', 'empty']\n",
    "    frames = []\n",
    "\n",
    "    # Перебір кожного файлу\n",
    "    for file in csv_files:\n",
    "        # Отримуємо ID регіону з назви файлу\n",
    "        region_id = int(file.split('__')[1])\n",
    "\n",
    "        # Завантажуємо дані з CSV файлу\n",
    "        df = pd.read_csv(file, header=1, names=headers)\n",
    "\n",
    "        # Обрізаємо частину року\n",
    "        df.at[0, 'Year'] = df.at[0, 'Year'][9:]\n",
    "\n",
    "        # Видаляємо останній рядок\n",
    "        df = df.drop(df.index[-1])\n",
    "\n",
    "        # Видаляємо рядки з VHI == -1\n",
    "        df = df[df['VHI'] != -1]\n",
    "\n",
    "        # Видаляємо стовпець 'empty'\n",
    "        df = df.drop(columns=['empty'])\n",
    "\n",
    "        # Додаємо стовпець 'region_id' на початок\n",
    "        df.insert(0, 'region_id', region_id)\n",
    "\n",
    "        # Перетворюємо стовпець 'Week' на ціле число\n",
    "        df['Week'] = df['Week'].astype(int)\n",
    "\n",
    "        # Додаємо поточний датафрейм у список\n",
    "        frames.append(df)\n",
    "\n",
    "    # Об'єднуємо всі фрейми, видаляємо дублікати та скидаємо індекси\n",
    "    result = pd.concat(frames).drop_duplicates().reset_index(drop=True)\n",
    "\n",
    "    # Фільтруємо та замінюємо значення для 'region_id'\n",
    "    result = result[(result['region_id'] != 12) & (result['region_id'] != 20)]\n",
    "    result['region_id'] = result['region_id'].replace({\n",
    "        1: 22, 2: 24, 3: 23, 4: 25, 5: 3, 6: 4, 7: 8, 8: 19, 9: 20, 10: 21,\n",
    "        11: 9, 13: 10, 14: 11, 15: 12, 16: 13, 17: 14, 18: 15, 19: 16, 21: 17,\n",
    "        22: 18, 23: 6, 24: 1, 25: 2, 26: 6, 27: 5\n",
    "    })\n",
    "\n",
    "    return result\n"
   ]
  },
  {
   "cell_type": "code",
   "execution_count": 15,
   "metadata": {},
   "outputs": [
    {
     "name": "stdout",
     "output_type": "stream",
     "text": [
      "       region_id  Year  Week    SMN     SMT    VCI    TCI    VHI\n",
      "0             21  1982     1  0.059  258.24  51.11  48.78  49.95\n",
      "1             21  1982     2  0.063  261.53  55.89  38.20  47.04\n",
      "2             21  1982     3  0.063  263.45  57.30  32.69  44.99\n",
      "3             21  1982     4  0.061  265.10  53.96  28.62  41.29\n",
      "4             21  1982     5  0.058  266.42  46.87  28.57  37.72\n",
      "...          ...   ...   ...    ...     ...    ...    ...    ...\n",
      "59017         20  2024    48  0.135  278.17  55.23  11.86  33.55\n",
      "59018         20  2024    49  0.133  277.08  57.71  10.86  34.29\n",
      "59019         20  2024    50  0.130  276.49  59.45   8.68  34.07\n",
      "59020         20  2024    51  0.128  276.45  62.53   5.55  34.04\n",
      "59021         20  2024    52  0.129  276.48  66.13   3.71  34.92\n",
      "\n",
      "[54650 rows x 8 columns]\n"
     ]
    }
   ],
   "source": [
    "resultdf = create_data_frame('data')\n",
    "\n",
    "print(resultdf)"
   ]
  },
  {
   "cell_type": "code",
   "execution_count": 16,
   "metadata": {},
   "outputs": [],
   "source": [
    "def region_year_analysis(region_id, years=(\"1982\", \"2024\"), resultdf=None, reg_id_name=None):\n",
    "    if resultdf is None or reg_id_name is None:\n",
    "        raise ValueError(\"Both 'resultdf' and 'reg_id_name' must be provided\")\n",
    "\n",
    "    # Фільтруємо дані для заданого регіону та років\n",
    "    df2 = resultdf[(resultdf[\"Year\"].between(years[0], years[1])) & (resultdf['region_id'] == region_id)]\n",
    "\n",
    "    # Отримуємо назву регіону\n",
    "    region_name = reg_id_name.get(region_id, \"Unknown region\")\n",
    "\n",
    "    # Знаходимо максимальне та мінімальне значення VHI для цього регіону\n",
    "    vhi_max_reg = df2[\"VHI\"].max()\n",
    "    vhi_min_reg = df2[\"VHI\"].min()\n",
    "\n",
    "    # Виводимо результати\n",
    "    print(f\"[+] {region_name}: min {vhi_min_reg} max {vhi_max_reg}\")\n"
   ]
  },
  {
   "cell_type": "code",
   "execution_count": 17,
   "metadata": {},
   "outputs": [
    {
     "name": "stdout",
     "output_type": "stream",
     "text": [
      "[+] Вінницька: min 11.25 max 63.27\n",
      "[+] Волинська: min 24.65 max 68.85\n",
      "[+] Дніпропетровська: min 17.77 max 61.55\n",
      "[+] Донецька: min 17.4 max 69.82\n",
      "[+] Житомирська: min 27.46 max 66.3\n",
      "[+] Закарпатська: min 20.12 max 59.59\n",
      "[+] Запорізька: min nan max nan\n",
      "[+] Івано-Франківська: min 18.98 max 60.12\n",
      "[+] Київська: min 10.6 max 61.87\n",
      "[+] Кіровоградська: min 16.84 max 60.69\n",
      "[+] Луганська: min 22.92 max 74.06\n",
      "[+] Львівська: min 29.53 max 69.96\n",
      "[+] Миколаївська: min 16.14 max 60.4\n",
      "[+] Одеська: min 17.83 max 53.87\n",
      "[+] Полтавська: min 22.52 max 68.24\n",
      "[+] Рівненська: min 23.86 max 67.04\n",
      "[+] Сумська: min 16.81 max 66.21\n",
      "[+] Тернопільська: min 24.33 max 59.97\n",
      "[+] Харківська: min 9.36 max 68.45\n",
      "[+] Херсонська: min 16.12 max 63.75\n",
      "[+] Хмельницька: min 20.97 max 65.0\n",
      "[+] Черкаська: min 10.68 max 72.05\n",
      "[+] Чернівецька: min 18.83 max 60.15\n",
      "[+] Чернігівська: min 15.17 max 67.16\n",
      "[+] Республіка Крим: min 23.43 max 74.45\n"
     ]
    }
   ],
   "source": [
    "for i in range(1, 26):\n",
    "    region_year_analysis(i, years=(\"2000\", \"2000\"), resultdf=resultdf, reg_id_name=reg_id_name)\n"
   ]
  },
  {
   "cell_type": "code",
   "execution_count": 18,
   "metadata": {},
   "outputs": [
    {
     "name": "stdout",
     "output_type": "stream",
     "text": [
      "+----------------------------------------------------------------------+\n",
      "| Роки з екстремальною посухою (де більше 10% областей мають VHI < 15) |\n",
      "+--------+-------------------------------------------+-----------------+\n",
      "|  Year  |          К-сть областей з посухою         |     Відсоток    |\n",
      "+--------+-------------------------------------------+-----------------+\n",
      "|  2000  |                     4                     |      16.67%     |\n",
      "|  2007  |                     5                     |      20.83%     |\n",
      "+--------+-------------------------------------------+-----------------+\n",
      "+-------------------------------------------------------------------------+\n",
      "| Роки з помірною посухою (де більше 10% областей мають VHI від 15 до 35) |\n",
      "+---------+---------------------------------------------+-----------------+\n",
      "|   Year  |           К-сть областей з посухою          |     Відсоток    |\n",
      "+---------+---------------------------------------------+-----------------+\n",
      "|   2000  |                      24                     |      100.0%     |\n",
      "|   2001  |                      9                      |      37.5%      |\n",
      "|   2002  |                      12                     |      50.0%      |\n",
      "|   2003  |                      13                     |      54.17%     |\n",
      "|   2004  |                      3                      |      12.5%      |\n",
      "|   2005  |                      7                      |      29.17%     |\n",
      "|   2006  |                      12                     |      50.0%      |\n",
      "|   2007  |                      15                     |      62.5%      |\n",
      "|   2008  |                      15                     |      62.5%      |\n",
      "|   2009  |                      14                     |      58.33%     |\n",
      "|   2010  |                      13                     |      54.17%     |\n",
      "|   2011  |                      16                     |      66.67%     |\n",
      "|   2012  |                      12                     |      50.0%      |\n",
      "|   2013  |                      15                     |      62.5%      |\n",
      "|   2014  |                      10                     |      41.67%     |\n",
      "|   2015  |                      23                     |      95.83%     |\n",
      "|   2016  |                      15                     |      62.5%      |\n",
      "|   2017  |                      11                     |      45.83%     |\n",
      "|   2018  |                      14                     |      58.33%     |\n",
      "|   2019  |                      23                     |      95.83%     |\n",
      "|   2020  |                      16                     |      66.67%     |\n",
      "|   2021  |                      10                     |      41.67%     |\n",
      "|   2022  |                      6                      |      25.0%      |\n",
      "|   2023  |                      19                     |      79.17%     |\n",
      "|   2024  |                      16                     |      66.67%     |\n",
      "+---------+---------------------------------------------+-----------------+\n"
     ]
    }
   ],
   "source": [
    "from prettytable import PrettyTable\n",
    "\n",
    "def drought_years(df, percentage, type_of_drought, start_year=None, end_year=None):\n",
    "    \n",
    "    if start_year is not None:\n",
    "        df = df[df['Year'] >= str(start_year)]  \n",
    "    if end_year is not None:\n",
    "        df = df[df['Year'] <= str(end_year)]  \n",
    "\n",
    "    \n",
    "    drought_count = {}\n",
    "\n",
    "    \n",
    "    grouped_data = df.groupby('Year')\n",
    "\n",
    "    \n",
    "    for year, group_df in grouped_data:\n",
    "    \n",
    "        \n",
    "        total_areas = len(group_df['region_id'].unique())\n",
    "\n",
    "        if type_of_drought == \"extreme\":\n",
    "            \n",
    "            drought_areas = group_df[group_df['VHI'] < 15]['region_id'].nunique()\n",
    "        elif type_of_drought == \"moderate\":\n",
    "            \n",
    "            drought_areas = group_df[(group_df['VHI'] > 15) & (group_df['VHI'] < 35)]['region_id'].nunique()\n",
    "        \n",
    "        \n",
    "        if drought_areas / total_areas > percentage / 100:\n",
    "            drought_count[year] = (drought_areas, round((drought_areas / total_areas) * 100, 2))\n",
    "\n",
    "    \n",
    "    table = PrettyTable()\n",
    "    if type_of_drought == \"extreme\":\n",
    "        table.title = f\"Роки з екстремальною посухою (де більше {percentage}% областей мають VHI < 15)\"\n",
    "    elif type_of_drought == \"moderate\":\n",
    "        table.title = f\"Роки з помірною посухою (де більше {percentage}% областей мають VHI від 15 до 35)\"\n",
    "\n",
    "    table.field_names = [\"Year\", \"К-сть областей з посухою\", \"Відсоток\"]\n",
    "\n",
    "    for year, (drought_areas, percent) in drought_count.items():\n",
    "        table.add_row([year, drought_areas, f\"{percent}%\"])\n",
    "\n",
    "    return table\n",
    "\n",
    "\n",
    "drought_years_extreme = drought_years(resultdf, 10, \"extreme\", start_year='2000', end_year='2024')\n",
    "print(drought_years_extreme)\n",
    "\n",
    "drought_years_moderate = drought_years(resultdf, 10, \"moderate\", start_year='2000', end_year='2024')\n",
    "print(drought_years_moderate)\n"
   ]
  }
 ],
 "metadata": {
  "kernelspec": {
   "display_name": "Python 3",
   "language": "python",
   "name": "python3"
  },
  "language_info": {
   "codemirror_mode": {
    "name": "ipython",
    "version": 3
   },
   "file_extension": ".py",
   "mimetype": "text/x-python",
   "name": "python",
   "nbconvert_exporter": "python",
   "pygments_lexer": "ipython3",
   "version": "3.13.0"
  }
 },
 "nbformat": 4,
 "nbformat_minor": 2
}
